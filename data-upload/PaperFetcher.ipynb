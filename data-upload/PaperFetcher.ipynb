{
 "cells": [
  {
   "cell_type": "code",
   "execution_count": null,
   "id": "541caa80",
   "metadata": {},
   "outputs": [],
   "source": [
    "# Import required libraries\n",
    "\n",
    "from pyarxiv import query, download_entries\n",
    "from pyarxiv.arxiv_categories import ArxivCategory, arxiv_category_map\n",
    "\n",
    "import pandas as pd"
   ]
  },
  {
   "cell_type": "code",
   "execution_count": null,
   "id": "0855909d",
   "metadata": {},
   "outputs": [],
   "source": [
    "# Ask user for a topic and call it \"topic\"\n",
    "\n",
    "topic = input(\"Enter the topic for which you want to search papers on arXiv: \")\n",
    "\n",
    "# Generate API response based on \"topic\" and call it \"entries\"\n",
    "\n",
    "entries = query(title = topic)"
   ]
  },
  {
   "cell_type": "code",
   "execution_count": null,
   "id": "c39c225c",
   "metadata": {},
   "outputs": [],
   "source": [
    "# Pull title, author, date, link to PDF of paper from \"entries\"\n",
    "# and put each in its own list\n",
    "\n",
    "titles = map(lambda x: x['title'], entries)\n",
    "authors = map(lambda x: x['author'], entries)\n",
    "updated = map(lambda x: x['updated'], entries)\n",
    "links = map(lambda x: x['link'], entries)\n",
    "abstract = map(lambda x: x['summary'], entries)\n",
    "\n",
    "# Create empty dataframe called \"papers\"\n",
    "\n",
    "papers = pd.DataFrame()\n",
    "\n",
    "# Insert columns into \"papers\" from the previously created lists\n",
    "\n",
    "papers['Title'] = pd.Series(titles)\n",
    "papers['Author'] = pd.Series(authors)\n",
    "papers['Updated'] = pd.Series(updated)\n",
    "papers['Link'] = pd.Series(links)\n",
    "papers['Abstract'] = pd.Series(abstract)\n",
    "\n",
    "# Slice HH:MM:SS off of each row in date column\n",
    "\n",
    "papers['Updated'] = papers['Updated'].str.slice(stop = 10)\n",
    "\n",
    "\n",
    "# Abstract Slice\n",
    "papers['Abstract'] = papers['Abstract'].str.slice(stop=100)\n",
    "\n",
    "# Reformat URL string to take user to the PDF of the paper\n",
    "\n",
    "papers['Link'] = papers['Link'].str.replace(\"abs\", \"pdf\", case = True)\n",
    "\n",
    "# Strip paper ID from Link URL and put it in its own column called \"ID\"\n",
    "\n",
    "papers['ID'] = pd.Series(papers['Link'].str.rsplit(\"/\", n=1, expand=True)[1])"
   ]
  },
  {
   "cell_type": "code",
   "execution_count": null,
   "id": "8f61b9f3",
   "metadata": {},
   "outputs": [],
   "source": [
    "# Uncomment line of code below to export result as a CSV file\n",
    "\n",
    "# papers.to_csv(topic + ' arXiv papers.csv')\n",
    "\n",
    "# Sort dataframe in descending order by date\n",
    "\n",
    "papers = papers.sort_values(by = 'Updated', ascending = False).reset_index(drop = True)\n",
    "\n",
    "# Show first 20 papers in dataframe\n",
    "\n",
    "papers.head(20)"
   ]
  },
  {
   "cell_type": "markdown",
   "id": "94e3fb6e",
   "metadata": {},
   "source": [
    "## Automating Downloads into a Folder of Your Choice\n",
    "For example, let's assume that I have created a folder called \"arXiv papers\" on my desktop and want to download the PDFs of the 20 papers shown above into that folder. This can be easily accomplished with the lines of code below"
   ]
  },
  {
   "cell_type": "code",
   "execution_count": null,
   "id": "6d255542",
   "metadata": {},
   "outputs": [],
   "source": [
    "# Loop through index, pull ID for each paper from dataframe,\n",
    "# and use it to push the download from the API to your destination folder.\n",
    "\n",
    "# Be sure that the folder has been created before running the loop.\n",
    "# If you simply want the papers to download in the same location as your notebook,\n",
    "# either remove the target_folder argument entirely, or enter '.' as the file path\n",
    "\n",
    "# for i in range(0, 20):\n",
    "    \n",
    "#     download_entries(entries_or_ids_or_uris = [papers['ID'][i]],\n",
    "#                      target_folder = './papers')\n"
   ]
  },
  {
   "cell_type": "code",
   "execution_count": null,
   "id": "eba0011e",
   "metadata": {},
   "outputs": [],
   "source": []
  }
 ],
 "metadata": {
  "kernelspec": {
   "display_name": "Python 3",
   "language": "python",
   "name": "python3"
  },
  "language_info": {
   "codemirror_mode": {
    "name": "ipython",
    "version": 3
   },
   "file_extension": ".py",
   "mimetype": "text/x-python",
   "name": "python",
   "nbconvert_exporter": "python",
   "pygments_lexer": "ipython3",
   "version": "3.8.5"
  }
 },
 "nbformat": 4,
 "nbformat_minor": 5
}
